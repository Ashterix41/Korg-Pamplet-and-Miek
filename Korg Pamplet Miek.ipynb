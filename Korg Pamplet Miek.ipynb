{
 "cells": [
  {
   "cell_type": "code",
   "execution_count": null,
   "id": "91ff3cbb-5c3c-4c9b-98a6-d1e25ca30d8a",
   "metadata": {},
   "outputs": [],
   "source": [
    "import random\n",
    "\n",
    "while True:\n",
    "    user_action = input(\"Enter a choice (Korg, Pamplet, or Miek): \")\n",
    "    possible_actions = [\"Korg\", \"Pamplet\", \"Miek\"]\n",
    "    computer_action = random.choice(possible_actions)\n",
    "    print(\"You chose, {}, computer chose, {}\".format(user_action,computer_action))\n",
    "\n",
    "    if user_action == computer_action:\n",
    "        print(\"Both players selected,\" ,user_action, \", It's a tie!\")\n",
    "    elif user_action == \"Korg\":\n",
    "        if computer_action == \"Miek\":\n",
    "            print(\"Korg beats Miek! But only for the sake of the game, they are besties in real life!\")\n",
    "        else:\n",
    "            print(\"Pamplet beats Korg! because he didn't print enough of them, and now his mom abandoned him\")\n",
    "    elif user_action == \"Pamplet\":\n",
    "        if computer_action == \"Korg\":\n",
    "            print(\"Pamplet covers Korg! Wow, you choose to beat Korg despite knowing the guy\")\n",
    "        else:\n",
    "            print(\"Miek cuts Pamplet! Proves it to Korg why he is his bestie. Korg's mom stays.\")\n",
    "    elif user_action == \"Miek\":\n",
    "        if computer_action == \"Pamplet\":\n",
    "            print(\"Miek cuts Pamplet! and proves it to Korg why he is is bestie. Korg's mom stays.\")\n",
    "        else:\n",
    "            print(\"Korg beats Miek! But only for the sake of the game, they are besties in real life!\")\n",
    "\n",
    "    play_again = input(\"Play again? (y/n): \")\n",
    "    if play_again.lower() != \"y\":\n",
    "        break"
   ]
  },
  {
   "cell_type": "code",
   "execution_count": null,
   "id": "e6061189-7cd2-47d6-af16-ecf4069b2f49",
   "metadata": {},
   "outputs": [],
   "source": []
  }
 ],
 "metadata": {
  "kernelspec": {
   "display_name": "Python 3 (ipykernel)",
   "language": "python",
   "name": "python3"
  },
  "language_info": {
   "codemirror_mode": {
    "name": "ipython",
    "version": 3
   },
   "file_extension": ".py",
   "mimetype": "text/x-python",
   "name": "python",
   "nbconvert_exporter": "python",
   "pygments_lexer": "ipython3",
   "version": "3.8.9"
  }
 },
 "nbformat": 4,
 "nbformat_minor": 5
}
